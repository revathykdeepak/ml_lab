{
 "cells": [
  {
   "cell_type": "code",
   "execution_count": 109,
   "metadata": {},
   "outputs": [],
   "source": [
    "import pandas as pd\n",
    "import re\n",
    "from nltk.tokenize import TweetTokenizer\n",
    "from nltk.stem import WordNetLemmatizer\n",
    "from collections import Counter\n",
    "import seaborn as sns\n",
    "import matplotlib.pyplot as plt\n",
    "from matplotlib.pyplot import *\n",
    "from sklearn.feature_extraction.text import TfidfTransformer\n",
    "from sklearn.feature_extraction.text import CountVectorizer\n",
    "from sklearn.manifold import TSNE\n",
    "from sklearn.preprocessing import LabelEncoder\n",
    "from nltk.corpus import stopwords\n",
    "from enum import Enum\n",
    "\n",
    "%matplotlib inline"
   ]
  },
  {
   "cell_type": "code",
   "execution_count": 110,
   "metadata": {},
   "outputs": [
    {
     "name": "stdout",
     "output_type": "stream",
     "text": [
      "shape  (8675, 2)\n",
      "   type                                                                                                               posts\n",
      "0  INFJ  'http://www.youtube.com/watch?v=qsXHcwe3krw|||http://41.media.tumblr.com/tumblr_lfouy03PMA1qa1rooo1_500.jpg|||e...\n",
      "1  ENTP  'I'm finding the lack of me in these posts very alarming.|||Sex can be boring if it's in the same position ofte...\n",
      "2  INTP  'Good one  _____   https://www.youtube.com/watch?v=fHiGbolFFGw|||Of course, to which I say I know; that's my bl...\n",
      "3  INTJ  'Dear INTP,   I enjoyed our conversation the other day.  Esoteric gabbing about the nature of the universe and ...\n",
      "4  ENTJ  'You're fired.|||That's another silly misconception. That approaching is logically is going to be the key to un...\n"
     ]
    }
   ],
   "source": [
    "csvLoc = \"D:\\\\data analytics\\\\S2\\\\Ml lab\\\\dataset\\\\mbti_1.csv\"\n",
    "df=pd.read_csv(csvLoc)\n",
    "pd.set_option('display.width', 150)\n",
    "pd.set_option('display.max_colwidth', 115)\n",
    "print('shape ',df.shape)\n",
    "print(df.head())"
   ]
  },
  {
   "cell_type": "code",
   "execution_count": 111,
   "metadata": {},
   "outputs": [
    {
     "data": {
      "text/plain": [
       "[[\"'http://www.youtube.com/watch?v=qsXHcwe3krw\",\n",
       "  'http://41.media.tumblr.com/tumblr_lfouy03PMA1qa1rooo1_500.jpg',\n",
       "  'enfp and intj moments  https://www.youtube.com/watch?v=iz7lE1g4XM4  sportscenter not top ten plays  https://www.youtube.com/watch?v=uCdfze1etec  pranks',\n",
       "  'What has been the most life-changing experience in your life?',\n",
       "  'http://www.youtube.com/watch?v=vXZeYwwRDw8   http://www.youtube.com/watch?v=u8ejam5DP3E  On repeat for most of today.',\n",
       "  'May the PerC Experience immerse you.',\n",
       "  'The last thing my INFJ friend posted on his facebook before committing suicide the next day. Rest in peace~   http://vimeo.com/22842206',\n",
       "  \"Hello ENFJ7. Sorry to hear of your distress. It's only natural for a relationship to not be perfection all the time in every moment of existence. Try to figure the hard times as times of growth, as...\",\n",
       "  '84389  84390  http://wallpaperpassion.com/upload/23700/friendship-boy-and-girl-wallpaper.jpg  http://assets.dornob.com/wp-content/uploads/2010/04/round-home-design.jpg ...',\n",
       "  'Welcome and stuff.',\n",
       "  'http://playeressence.com/wp-content/uploads/2013/08/RED-red-the-pokemon-master-32560474-450-338.jpg  Game. Set. Match.',\n",
       "  \"Prozac, wellbrutin, at least thirty minutes of moving your legs (and I don't mean moving them while sitting in your same desk chair), weed in moderation (maybe try edibles as a healthier alternative...\",\n",
       "  \"Basically come up with three items you've determined that each type (or whichever types you want to do) would more than likely use, given each types' cognitive functions and whatnot, when left by...\",\n",
       "  'All things in moderation.  Sims is indeed a video game, and a good one at that. Note: a good one at that is somewhat subjective in that I am not completely promoting the death of any given Sim...',\n",
       "  'Dear ENFP:  What were your favorite video games growing up and what are your now, current favorite video games? :cool:',\n",
       "  'https://www.youtube.com/watch?v=QyPqT8umzmY',\n",
       "  'It appears to be too late. :sad:',\n",
       "  \"There's someone out there for everyone.\",\n",
       "  'Wait... I thought confidence was a good thing.',\n",
       "  \"I just cherish the time of solitude b/c i revel within my inner world more whereas most other time i'd be workin... just enjoy the me time while you can. Don't worry, people will always be around to...\",\n",
       "  \"Yo entp ladies... if you're into a complimentary personality,well, hey.\",\n",
       "  '... when your main social outlet is xbox live conversations and even then you verbally fatigue quickly.',\n",
       "  'http://www.youtube.com/watch?v=gDhy7rdfm14  I really dig the part from 1:46 to 2:50',\n",
       "  'http://www.youtube.com/watch?v=msqXffgh7b8',\n",
       "  'Banned because this thread requires it of me.',\n",
       "  'Get high in backyard, roast and eat marshmellows in backyard while conversing over something intellectual, followed by massages and kisses.',\n",
       "  'http://www.youtube.com/watch?v=Mw7eoU3BMbE',\n",
       "  'http://www.youtube.com/watch?v=4V2uYORhQOk',\n",
       "  'http://www.youtube.com/watch?v=SlVmgFQQ0TI',\n",
       "  \"Banned for too many b's in that sentence. How could you! Think of the B!\",\n",
       "  'Banned for watching movies in the corner with the dunces.',\n",
       "  'Banned because Health class clearly taught you nothing about peer pressure.',\n",
       "  'Banned for a whole host of reasons!',\n",
       "  'http://www.youtube.com/watch?v=IRcrv41hgz4',\n",
       "  \"1) Two baby deer on left and right munching on a beetle in the middle.  2) Using their own blood, two cavemen diary today's latest happenings on their designated cave diary wall.  3) I see it as...\",\n",
       "  'a pokemon world  an infj society  everyone becomes an optimist',\n",
       "  '49142',\n",
       "  'http://www.youtube.com/watch?v=ZRCEq_JFeFM',\n",
       "  'http://discovermagazine.com/2012/jul-aug/20-things-you-didnt-know-about-deserts/desert.jpg',\n",
       "  'http://oyster.ignimgs.com/mediawiki/apis.ign.com/pokemon-silver-version/d/dd/Ditto.gif',\n",
       "  'http://www.serebii.net/potw-dp/Scizor.jpg',\n",
       "  \"Not all artists are artists because they draw. It's the idea that counts in forming something of your own... like a signature.\",\n",
       "  \"Welcome to the robot ranks, person who downed my self-esteem cuz I'm not an avid signature artist like herself. :proud:\",\n",
       "  'Banned for taking all the room under my bed. Ya gotta learn to share with the roaches.',\n",
       "  'http://www.youtube.com/watch?v=w8IgImn57aQ',\n",
       "  'Banned for being too much of a thundering, grumbling kind of storm... yep.',\n",
       "  \"Ahh... old high school music I haven't heard in ages.   http://www.youtube.com/watch?v=dcCRUPCdB1w\",\n",
       "  \"I failed a public speaking class a few years ago and I've sort of learned what I could do better were I to be in that position again. A big part of my failure was just overloading myself with too...\",\n",
       "  \"I like this person's mentality. He's a confirmed INTJ by the way. http://www.youtube.com/watch?v=hGKLI-GEc6M\",\n",
       "  \"Move to the Denver area and start a new life for myself.'\"]]"
      ]
     },
     "execution_count": 111,
     "metadata": {},
     "output_type": "execute_result"
    }
   ],
   "source": [
    "[p.split('|||') for p in df.head(1).posts.values]"
   ]
  },
  {
   "cell_type": "code",
   "execution_count": 112,
   "metadata": {},
   "outputs": [
    {
     "data": {
      "text/plain": [
       "Text(0.5,0,'Types')"
      ]
     },
     "execution_count": 112,
     "metadata": {},
     "output_type": "execute_result"
    },
    {
     "data": {
      "image/png": "[encoded data removed]",
      "text/plain": [
       "<Figure size 2160x720 with 1 Axes>"
      ]
     },
     "metadata": {},
     "output_type": "display_data"
    }
   ],
   "source": [
    "plt.figure(figsize=(30,10))\n",
    "sns.countplot(data=df, x='type')\n",
    "plt.xticks(fontsize=24, rotation=0)\n",
    "plt.yticks(fontsize=24, rotation=0)\n",
    "plt.ylabel('Number of Occurrences', fontsize=24)\n",
    "plt.xlabel('Types', fontsize=24)\n"
   ]
  },
  {
   "cell_type": "code",
   "execution_count": 113,
   "metadata": {},
   "outputs": [
    {
     "name": "stdout",
     "output_type": "stream",
     "text": [
      "Total posts  422845\n",
      "mbti posts  5178\n",
      "remaining  417667\n"
     ]
    }
   ],
   "source": [
    "types=[\"istj\",\"isfj\",\"infj\",\"intj\",\"istp\",\"isfp\",\"infp\",\"intp\",\"estp\",\"esfp\",\"entp\",\"enfp\",\"estj\",\"esfj\",\"enfj\",\"entj\"]\n",
    "types_re = re.compile(\"|\".join(types))\n",
    "totalPst=mbtiPost=0\n",
    "for val in df['posts']:\n",
    "    posts=val.split(\"|||\")\n",
    "    totalPst += len(posts)\n",
    "    for post in posts:\n",
    "        if types_re.search(post):\n",
    "            mbtiPost +=1\n",
    "print(\"Total posts \",totalPst)\n",
    "print(\"mbti posts \",mbtiPost)\n",
    "print(\"remaining \",totalPst-mbtiPost)\n",
    "        \n"
   ]
  },
  {
   "cell_type": "markdown",
   "metadata": {},
   "source": [
    "having personality types inside set wouldn't affect result much because number of posts with personality type reference is low."
   ]
  },
  {
   "cell_type": "code",
   "execution_count": 114,
   "metadata": {},
   "outputs": [
    {
     "name": "stdout",
     "output_type": "stream",
     "text": [
      "['ENFJ' 'ENFP' 'ENTJ' 'ENTP' 'ESFJ' 'ESFP' 'ESTJ' 'ESTP' 'INFJ' 'INFP'\n",
      " 'INTJ' 'INTP' 'ISFJ' 'ISFP' 'ISTJ' 'ISTP']\n"
     ]
    }
   ],
   "source": [
    "unique_type_list = ['INFJ', 'ENTP', 'INTP', 'INTJ', 'ENTJ', 'ENFJ', 'INFP', 'ENFP',\n",
    "       'ISFP', 'ISTP', 'ISFJ', 'ISTJ', 'ESTP', 'ESFP', 'ESTJ', 'ESFJ']\n",
    "lab_encoder = LabelEncoder().fit(unique_type_list)\n",
    "print(lab_encoder.classes_)\n"
   ]
  },
  {
   "cell_type": "code",
   "execution_count": 115,
   "metadata": {},
   "outputs": [
    {
     "name": "stdout",
     "output_type": "stream",
     "text": [
      "======org=====\n",
      "'http://www.youtube.com/watch?v=qsXHcwe3krw|||http://41.media.tumblr.com/tumblr_lfouy03PMA1qa1rooo1_500.jpg|||enfp and intj moments  https://www.youtube.com/watch?v=iz7lE1g4XM4  sportscenter not top ten plays  https://www.youtube.com/watch?v=uCdfze1etec  pranks|||What has been the most life-changing experience in your life?|||http://www.youtube.com/watch?v=vXZeYwwRDw8   http://www.youtube.com/watch?v=u8ejam5DP3E  On repeat for most of today.|||May the PerC Experience immerse you.|||The last thin\n",
      "=======remove hyperlink=====\n",
      "' and intj moments    sportscenter not top ten plays    pranks|||What has been the most life-changing experience in your life?|||     On repeat for most of today.|||May the PerC Experience immerse you.|||The last thing my INFJ friend posted on his facebook before committing suicide the next day. Rest in peace~    ENFJ7. Sorry to hear of your distress. It's only natural for a relationship to not be perfection all the time in every moment of existence. Try to figure the hard times as times of grow\n",
      "===========spl car remove=========\n",
      " and intj moments sportscenter not top ten plays pranks what has been the most life changing experience in your life on repeat for most of today may the perc experience immerse you the last thing my infj friend posted on his facebook before committing suicide the next day rest in peace enfj sorry to hear of your distress it s only natural for a relationship to not be perfection all the time in every moment of existence try to figure the hard times as times of growth as welcome and stuff game set\n",
      "===========lemmatize=========\n",
      " and intj moment sportscenter not top ten play prank what ha been the most life changing experience in your life on repeat for most of today may the perc experience immerse you the last thing my infj friend posted on his facebook before committing suicide the next day rest in peace enfj sorry to hear of your distress it s only natural for a relationship to not be perfection all the time in every moment of existence try to figure the hard time a time of growth a welcome and stuff game set match p\n"
     ]
    }
   ],
   "source": [
    "hyperlinkRe = r'''(?i)\\b((?:https?://|www\\d{0,3}[.]|[a-z0-9.\\-]+[.][a-z]{2,4}/)(?:[^\\s()<>]+|\\(([^\\s()<>]+|(\\([^\\s()<>]+\\)))*\\))+(?:\\(([^\\s()<>]+|(\\([^\\s()<>]+\\)))*\\)|[^\\s`!()\\[\\]{};:'\".,<>?«»“”‘’]))'''\n",
    "tknzr = TweetTokenizer(preserve_case=False)\n",
    "vocab = Counter()\n",
    "wordnet_lemmatizer = WordNetLemmatizer()\n",
    "\n",
    "#sample preprocessing\n",
    "post=df['posts'][0]\n",
    "print(\"======org=====\")\n",
    "print(post[0:500])\n",
    "\n",
    "post=re.sub(hyperlinkRe,'', post) #remove hyperlink\n",
    "print(\"=======remove hyperlink=====\")\n",
    "print(post[0:500])\n",
    "#     post=tknzr.tokenize(post)\n",
    "# #   print(\"===========tokenize=========\")\n",
    "# #   print(post)\n",
    "post= re.sub(r'[^a-zA-Z]',' ',post)\n",
    "post = re.sub(' +', ' ', post).lower()\n",
    "print(\"===========spl car remove=========\")\n",
    "print(post[0:500])\n",
    "\n",
    "post = \" \".join([ wordnet_lemmatizer.lemmatize(x) for x in post.split(\" \")])\n",
    "print(\"===========lemmatize=========\")\n",
    "print(post[0:500])\n",
    "#     for word in post:\n",
    "#         vocab[word.lower()]+=1\n",
    "#     postList[index]=post\n",
    "# #     print(post)\n",
    "     "
   ]
  },
  {
   "cell_type": "code",
   "execution_count": 116,
   "metadata": {},
   "outputs": [],
   "source": [
    "b_Pers = {'I':0, 'E':1, 'N':0, 'S':1, 'F':0, 'T':1, 'J':0, 'P':1}\n",
    "b_Pers_list = [{0:'I', 1:'E'}, {0:'N', 1:'S'}, {0:'F', 1:'T'}, {0:'J', 1:'P'}]\n",
    "printList=[]\n",
    "def translate_personality(personality):\n",
    "    '''\n",
    "    transform mbti to binary vector\n",
    "    '''\n",
    "    if(personality not in printList ):\n",
    "        print(\"mbti : \",personality, \" val: \",np.array([b_Pers[l] for l in personality]))\n",
    "        printList.append(personality)\n",
    "    return np.array([b_Pers[l] for l in personality])"
   ]
  },
  {
   "cell_type": "code",
   "execution_count": 117,
   "metadata": {},
   "outputs": [
    {
     "name": "stdout",
     "output_type": "stream",
     "text": [
      "0 | 8675 rows\n",
      "500 | 8675 rows\n",
      "1000 | 8675 rows\n",
      "1500 | 8675 rows\n",
      "2000 | 8675 rows\n",
      "2500 | 8675 rows\n",
      "3000 | 8675 rows\n",
      "3500 | 8675 rows\n",
      "4000 | 8675 rows\n",
      "4500 | 8675 rows\n",
      "5000 | 8675 rows\n",
      "5500 | 8675 rows\n",
      "6000 | 8675 rows\n",
      "6500 | 8675 rows\n",
      "7000 | 8675 rows\n",
      "7500 | 8675 rows\n",
      "8000 | 8675 rows\n",
      "8500 | 8675 rows\n",
      "mbti :  INFJ  val:  [0 0 0 0]\n",
      "mbti :  ENTP  val:  [1 0 1 1]\n",
      "mbti :  INTP  val:  [0 0 1 1]\n",
      "mbti :  INTJ  val:  [0 0 1 0]\n",
      "mbti :  ENTJ  val:  [1 0 1 0]\n",
      "mbti :  ENFJ  val:  [1 0 0 0]\n",
      "mbti :  INFP  val:  [0 0 0 1]\n",
      "mbti :  ENFP  val:  [1 0 0 1]\n",
      "mbti :  ISFP  val:  [0 1 0 1]\n",
      "mbti :  ISTP  val:  [0 1 1 1]\n",
      "mbti :  ISFJ  val:  [0 1 0 0]\n",
      "mbti :  ISTJ  val:  [0 1 1 0]\n",
      "mbti :  ESTP  val:  [1 1 1 1]\n",
      "mbti :  ESFP  val:  [1 1 0 1]\n",
      "mbti :  ESTJ  val:  [1 1 1 0]\n",
      "mbti :  ESFJ  val:  [1 1 0 0]\n",
      "bin shape  (8675, 4)\n",
      "personality bin\n",
      "[[0 0 0 0]\n",
      " [1 0 1 1]\n",
      " [0 0 1 1]\n",
      " ...\n",
      " [0 0 1 1]\n",
      " [0 0 0 1]\n",
      " [0 0 0 1]]\n",
      "split list shape  (4, 8675)\n",
      "split list\n",
      "[[0 1 0 ... 0 0 0]\n",
      " [0 0 0 ... 0 0 0]\n",
      " [0 1 1 ... 1 0 0]\n",
      " [0 1 1 ... 1 1 1]]\n",
      "done!\n"
     ]
    }
   ],
   "source": [
    "Labels=Enum('Labels','MBTI I_E N_S F_T J_P',start=0)\n",
    "\n",
    "def preProcessData(data, remove_stop_words=True):\n",
    "    cachedStopWords = stopwords.words(\"english\")\n",
    "    list_personality = []\n",
    "    list_posts = []\n",
    "    len_data = len(data)\n",
    "\n",
    "    for index,row in data.iterrows():\n",
    "        if index % 500 == 0:\n",
    "            print(\"%s | %s rows\" % (index, len_data))\n",
    "\n",
    "        ##### Remove and clean comments\n",
    "        posts = row['posts']\n",
    "        temp = re.sub(hyperlinkRe, ' ', posts)\n",
    "        temp = re.sub(\"[^a-zA-Z]\", \" \", temp)\n",
    "        temp = re.sub(' +', ' ', temp).lower()\n",
    "        if remove_stop_words:\n",
    "            temp = \" \".join([wordnet_lemmatizer.lemmatize(w) for w in temp.split(' ') if w not in cachedStopWords])\n",
    "        else:\n",
    "            temp = \" \".join([ wordnet_lemmatizer.lemmatize(x) for x in post.split(\" \")])\n",
    "        list_posts.append(temp)\n",
    "    list_posts=np.array(list_posts)\n",
    "    \n",
    "    #get labels\n",
    "    list_personality_bin = np.array([translate_personality(p) for p in list(data['type'])])\n",
    "    print(\"bin shape \",list_personality_bin.shape )\n",
    "    print(\"personality bin\")\n",
    "    print(list_personality_bin)\n",
    "    list_personality_split=np.transpose(list_personality_bin)\n",
    "    print(\"split list shape \",list_personality_split.shape )\n",
    "    print(\"split list\")\n",
    "    print(list_personality_split)\n",
    "    list_personality_mbti = np.array(lab_encoder.transform(list(data['type'])))\n",
    "    \n",
    "    list_personality.append(list_personality_mbti)\n",
    "    for plist in list_personality_split:\n",
    "        list_personality.append(plist);\n",
    "    list_personality=np.array(list_personality)\n",
    "    print(\"done!\")\n",
    "    return list_posts, list_personality\n",
    "    \n",
    "list_posts, list_personality = preProcessData(df, remove_stop_words=True)   "
   ]
  },
  {
   "cell_type": "code",
   "execution_count": 118,
   "metadata": {},
   "outputs": [
    {
     "name": "stdout",
     "output_type": "stream",
     "text": [
      "0\n",
      "INFJ   I N F J    intj moment sportscenter top ten play prank life \n",
      "ENTP   E N T P    finding lack post alarming sex boring position of\n",
      "INTP   I N T P    good one course say know blessing curse absolutel\n",
      "INTJ   I N T J    dear intp enjoyed conversation day esoteric gabbi\n",
      "ENTJ   E N T J    fired another silly misconception approaching log\n"
     ]
    },
    {
     "name": "stderr",
     "output_type": "stream",
     "text": [
      "C:\\Users\\dell\\Anaconda3\\lib\\site-packages\\sklearn\\preprocessing\\label.py:151: DeprecationWarning: The truth value of an empty array is ambiguous. Returning False, but in future this will result in an error. Use `array.size > 0` to check that an array is not empty.\n",
      "  if diff:\n",
      "C:\\Users\\dell\\Anaconda3\\lib\\site-packages\\sklearn\\preprocessing\\label.py:151: DeprecationWarning: The truth value of an empty array is ambiguous. Returning False, but in future this will result in an error. Use `array.size > 0` to check that an array is not empty.\n",
      "  if diff:\n",
      "C:\\Users\\dell\\Anaconda3\\lib\\site-packages\\sklearn\\preprocessing\\label.py:151: DeprecationWarning: The truth value of an empty array is ambiguous. Returning False, but in future this will result in an error. Use `array.size > 0` to check that an array is not empty.\n",
      "  if diff:\n",
      "C:\\Users\\dell\\Anaconda3\\lib\\site-packages\\sklearn\\preprocessing\\label.py:151: DeprecationWarning: The truth value of an empty array is ambiguous. Returning False, but in future this will result in an error. Use `array.size > 0` to check that an array is not empty.\n",
      "  if diff:\n",
      "C:\\Users\\dell\\Anaconda3\\lib\\site-packages\\sklearn\\preprocessing\\label.py:151: DeprecationWarning: The truth value of an empty array is ambiguous. Returning False, but in future this will result in an error. Use `array.size > 0` to check that an array is not empty.\n",
      "  if diff:\n"
     ]
    }
   ],
   "source": [
    "print(Labels.MBTI.value)\n",
    "for i in range(0,5):\n",
    "    print(lab_encoder.inverse_transform(list_personality[Labels.MBTI.value][i]),\" \",\n",
    "          \" \".join([b_Pers_list[x][list_personality[x+1][i]] for x in range(0,4)]),\n",
    "          \" \",list_posts[i][0:50])"
   ]
  },
  {
   "cell_type": "code",
   "execution_count": 143,
   "metadata": {},
   "outputs": [
    {
     "name": "stdout",
     "output_type": "stream",
     "text": [
      "I_E\n",
      "N_S\n",
      "F_T\n",
      "J_P\n",
      "   type                posts I_E N_S F_T J_P\n",
      "0  INFJ  'http://www.yout...   I   N   F   J\n",
      "1  ENTP  'I'm finding the...   E   N   T   P\n",
      "2  INTP  'Good one  _____...   I   N   T   P\n",
      "3  INTJ  'Dear INTP,   I ...   I   N   T   J\n",
      "4  ENTJ  'You're fired.||...   E   N   T   J\n",
      "[<matplotlib.axes._subplots.AxesSubplot object at 0x000001E69BD183C8>\n",
      " <matplotlib.axes._subplots.AxesSubplot object at 0x000001E69BCE5DA0>\n",
      " <matplotlib.axes._subplots.AxesSubplot object at 0x000001E6B4834470>\n",
      " <matplotlib.axes._subplots.AxesSubplot object at 0x000001E6964B1B00>]\n"
     ]
    },
    {
     "data": {
      "image/png": "[encoded data removed]",
      "text/plain": [
       "<Figure size 720x720 with 4 Axes>"
      ]
     },
     "metadata": {},
     "output_type": "display_data"
    }
   ],
   "source": [
    "for i in range(1,5):\n",
    "    name=Labels(i).name\n",
    "    print(name)\n",
    "    df[name]=list_personality[i]\n",
    "    df[name]= df[name].map(lambda x: b_Pers_list[i-1][x] )\n",
    "pd.set_option('display.max_colwidth', 20)\n",
    "print(df.head())\n",
    "f, ax = plt.subplots(2, 2,figsize=(10, 10))\n",
    "ax=ax.flatten()\n",
    "print(ax)\n",
    "for i in range (0,4):\n",
    "    sns.countplot(data=df,x=Labels(i+1).name,ax=ax[i])\n",
    "\n"
   ]
  },
  {
   "cell_type": "code",
   "execution_count": 74,
   "metadata": {},
   "outputs": [],
   "source": [
    "#parameters\n",
    "termCountLimit =0.9\n",
    "maxVocab=50000"
   ]
  },
  {
   "cell_type": "code",
   "execution_count": 75,
   "metadata": {},
   "outputs": [
    {
     "name": "stdout",
     "output_type": "stream",
     "text": [
      "count vectorizer shape\n",
      "(8675, 50000)\n",
      "tfidf shape\n",
      "(8675, 50000)\n"
     ]
    }
   ],
   "source": [
    "cntizer = CountVectorizer(max_df=termCountLimit, max_features=maxVocab)\n",
    "#                             analyzer=\"word\", \n",
    "#                              max_features=1500, \n",
    "#                              tokenizer=None,    \n",
    "#                              preprocessor=None, \n",
    "#                              stop_words=None,  \n",
    "# #                             ngram_range=(1,1),\n",
    "#                              max_df=0.5,\n",
    "#                              min_df=0.1) \n",
    "                                 \n",
    "tfizer = TfidfTransformer()\n",
    "\n",
    "X_cnt = cntizer.fit_transform(list_posts)\n",
    "X_tfidf =  tfizer.fit_transform(X_cnt).toarray()\n",
    "print(\"count vectorizer shape\")\n",
    "print(X_cnt.shape)\n",
    "print(\"tfidf shape\")\n",
    "print(X_tfidf.shape)"
   ]
  },
  {
   "cell_type": "code",
   "execution_count": 76,
   "metadata": {},
   "outputs": [
    {
     "data": {
      "text/plain": [
       "['feel',\n",
       " 'type',\n",
       " 'make',\n",
       " 'much',\n",
       " 'well',\n",
       " 'say',\n",
       " 'friend',\n",
       " 'love',\n",
       " 'way',\n",
       " 'want',\n",
       " 'good',\n",
       " 'see',\n",
       " 'something',\n",
       " 'also',\n",
       " 'lot',\n",
       " 'go',\n",
       " 'even',\n",
       " 'always',\n",
       " 'life',\n",
       " 'someone',\n",
       " 'could',\n",
       " 'never',\n",
       " 'though',\n",
       " 'find',\n",
       " 'year',\n",
       " 'thought',\n",
       " 'need',\n",
       " 'infp',\n",
       " 'actually',\n",
       " 'person',\n",
       " 'right',\n",
       " 'work',\n",
       " 'going',\n",
       " 'first',\n",
       " 'sure',\n",
       " 'yes',\n",
       " 'infj',\n",
       " 'pretty',\n",
       " 'mean',\n",
       " 'intj',\n",
       " 'feeling',\n",
       " 'day',\n",
       " 'take',\n",
       " 'come',\n",
       " 'guy',\n",
       " 'still',\n",
       " 'post',\n",
       " 'thread',\n",
       " 'look',\n",
       " 'said']"
      ]
     },
     "execution_count": 76,
     "metadata": {},
     "output_type": "execute_result"
    }
   ],
   "source": [
    "reverse_dic = {}\n",
    "for key in cntizer.vocabulary_:\n",
    "    reverse_dic[cntizer.vocabulary_[key]] = key\n",
    "top_50 = np.asarray(np.argsort(np.sum(X_cnt, axis=0))[0,-50:][0, ::-1]).flatten()\n",
    "[reverse_dic[v] for v in top_50]"
   ]
  },
  {
   "cell_type": "code",
   "execution_count": null,
   "metadata": {},
   "outputs": [],
   "source": [
    "mlNB = MultinomialNB()"
   ]
  }
 ],
 "metadata": {
  "kernelspec": {
   "display_name": "Python 3",
   "language": "python",
   "name": "python3"
  },
  "language_info": {
   "codemirror_mode": {
    "name": "ipython",
    "version": 3
   },
   "file_extension": ".py",
   "mimetype": "text/x-python",
   "name": "python",
   "nbconvert_exporter": "python",
   "pygments_lexer": "ipython3",
   "version": "3.6.5"
  }
 },
 "nbformat": 4,
 "nbformat_minor": 2
}
